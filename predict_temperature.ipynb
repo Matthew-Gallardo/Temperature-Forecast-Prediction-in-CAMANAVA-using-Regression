{
 "cells": [
  {
   "cell_type": "code",
   "execution_count": 7,
   "metadata": {},
   "outputs": [],
   "source": [
    "import warnings\n",
    "import pandas as pd\n",
    "from sklearn.linear_model import LinearRegression\n",
    "import joblib\n",
    "from ipywidgets import widgets, interact\n",
    "from IPython.display import display\n",
    "\n",
    "warnings.filterwarnings(\"ignore\")\n"
   ]
  },
  {
   "cell_type": "markdown",
   "metadata": {},
   "source": []
  },
  {
   "cell_type": "code",
   "execution_count": 8,
   "metadata": {},
   "outputs": [],
   "source": [
    "\n",
    "# Load the trained model\n",
    "model = joblib.load('temperature_model.pkl')"
   ]
  },
  {
   "cell_type": "code",
   "execution_count": 9,
   "metadata": {},
   "outputs": [],
   "source": [
    "# Define a function to make predictions based on user input\n",
    "def predict_temperature(main_pressure, main_humidity, clouds_all, wind_speed, weather_Clear, weather_Clouds, weather_Mist, weather_Rain, weather_Smoke):\n",
    "    input_data = pd.DataFrame({\n",
    "        'main.pressure': [main_pressure],\n",
    "        'main.humidity': [main_humidity],\n",
    "        'clouds.all': [clouds_all],\n",
    "        'wind.speed': [wind_speed],\n",
    "        'weather.Clear': [weather_Clear],\n",
    "        'weather.Clouds': [weather_Clouds],\n",
    "        'weather.Mist': [weather_Mist],\n",
    "        'weather.Rain': [weather_Rain],\n",
    "        'weather.Smoke': [weather_Smoke]\n",
    "    })\n",
    "    prediction = model.predict(input_data)\n",
    "    print(f\"Predicted Temperature: {prediction[0]:.2f}°C\")\n",
    "    "
   ]
  },
  {
   "cell_type": "code",
   "execution_count": 10,
   "metadata": {},
   "outputs": [
    {
     "data": {
      "application/vnd.jupyter.widget-view+json": {
       "model_id": "cd73486f0cb64f99996065c236b70fe3",
       "version_major": 2,
       "version_minor": 0
      },
      "text/plain": [
       "FloatText(value=0.0, description='Pressure')"
      ]
     },
     "metadata": {},
     "output_type": "display_data"
    },
    {
     "data": {
      "application/vnd.jupyter.widget-view+json": {
       "model_id": "41a38dc0e6444bbb8f287002130d3c38",
       "version_major": 2,
       "version_minor": 0
      },
      "text/plain": [
       "FloatText(value=0.0, description='Humidity')"
      ]
     },
     "metadata": {},
     "output_type": "display_data"
    },
    {
     "data": {
      "application/vnd.jupyter.widget-view+json": {
       "model_id": "fe5372694a2b428480633f22ec706fb2",
       "version_major": 2,
       "version_minor": 0
      },
      "text/plain": [
       "FloatText(value=0.0, description='Clouds')"
      ]
     },
     "metadata": {},
     "output_type": "display_data"
    },
    {
     "data": {
      "application/vnd.jupyter.widget-view+json": {
       "model_id": "ee5ef56ee7394590a5792b132d38a2dd",
       "version_major": 2,
       "version_minor": 0
      },
      "text/plain": [
       "FloatText(value=0.0, description='Wind Speed')"
      ]
     },
     "metadata": {},
     "output_type": "display_data"
    },
    {
     "data": {
      "application/vnd.jupyter.widget-view+json": {
       "model_id": "f9f86faa80444dcca25e0ab5ccc31565",
       "version_major": 2,
       "version_minor": 0
      },
      "text/plain": [
       "FloatText(value=0.0, description='Clear')"
      ]
     },
     "metadata": {},
     "output_type": "display_data"
    },
    {
     "data": {
      "application/vnd.jupyter.widget-view+json": {
       "model_id": "b93cb3ac5e3b414c9762702442236ca4",
       "version_major": 2,
       "version_minor": 0
      },
      "text/plain": [
       "FloatText(value=0.0, description='Clouds')"
      ]
     },
     "metadata": {},
     "output_type": "display_data"
    },
    {
     "data": {
      "application/vnd.jupyter.widget-view+json": {
       "model_id": "5dc4b9b1b90e4306ba2333d7625b8f68",
       "version_major": 2,
       "version_minor": 0
      },
      "text/plain": [
       "FloatText(value=0.0, description='Mist')"
      ]
     },
     "metadata": {},
     "output_type": "display_data"
    },
    {
     "data": {
      "application/vnd.jupyter.widget-view+json": {
       "model_id": "cc9e690003174b8fb55f94e42403c237",
       "version_major": 2,
       "version_minor": 0
      },
      "text/plain": [
       "FloatText(value=0.0, description='Rain')"
      ]
     },
     "metadata": {},
     "output_type": "display_data"
    },
    {
     "data": {
      "application/vnd.jupyter.widget-view+json": {
       "model_id": "7a9fce260ae44bfb8c580f60af0b21a6",
       "version_major": 2,
       "version_minor": 0
      },
      "text/plain": [
       "FloatText(value=0.0, description='Smoke')"
      ]
     },
     "metadata": {},
     "output_type": "display_data"
    }
   ],
   "source": [
    "# Create widgets for user input\n",
    "main_pressure = widgets.FloatText(description='Pressure')\n",
    "main_humidity = widgets.FloatText(description='Humidity')\n",
    "clouds_all = widgets.FloatText(description='Clouds')\n",
    "wind_speed = widgets.FloatText(description='Wind Speed')\n",
    "weather_Clear = widgets.FloatText(description='Clear')\n",
    "weather_Clouds = widgets.FloatText(description='Clouds')\n",
    "weather_Mist = widgets.FloatText(description='Mist')\n",
    "weather_Rain = widgets.FloatText(description='Rain')\n",
    "weather_Smoke = widgets.FloatText(description='Smoke')\n",
    "\n",
    "# Display the widgets\n",
    "display(main_pressure, main_humidity, clouds_all, wind_speed, weather_Clear, weather_Clouds, weather_Mist, weather_Rain, weather_Smoke)\n",
    "\n",
    "# Create an interactive interface\n",
    "interact(predict_temperature,\n",
    "         main_pressure=main_pressure,\n",
    "         main_humidity=main_humidity,\n",
    "         clouds_all=clouds_all,\n",
    "         wind_speed=wind_speed,\n",
    "         weather_Clear=weather_Clear,\n",
    "         weather_Clouds=weather_Clouds,\n",
    "         weather_Mist=weather_Mist,\n",
    "         weather_Rain=weather_Rain,\n",
    "         weather_Smoke=weather_Smoke)"
   ]
  }
 ],
 "metadata": {
  "kernelspec": {
   "display_name": "Python 3",
   "language": "python",
   "name": "python3"
  },
  "language_info": {
   "codemirror_mode": {
    "name": "ipython",
    "version": 3
   },
   "file_extension": ".py",
   "mimetype": "text/x-python",
   "name": "python",
   "nbconvert_exporter": "python",
   "pygments_lexer": "ipython3",
   "version": "3.11.0"
  }
 },
 "nbformat": 4,
 "nbformat_minor": 2
}
